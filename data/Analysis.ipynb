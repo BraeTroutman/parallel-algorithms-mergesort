{
 "cells": [
  {
   "cell_type": "code",
   "execution_count": 2,
   "id": "13282095",
   "metadata": {},
   "outputs": [],
   "source": [
    "import pandas as pd"
   ]
  },
  {
   "cell_type": "code",
   "execution_count": 5,
   "id": "c9756315",
   "metadata": {},
   "outputs": [
    {
     "data": {
      "text/html": [
       "<div>\n",
       "<style scoped>\n",
       "    .dataframe tbody tr th:only-of-type {\n",
       "        vertical-align: middle;\n",
       "    }\n",
       "\n",
       "    .dataframe tbody tr th {\n",
       "        vertical-align: top;\n",
       "    }\n",
       "\n",
       "    .dataframe thead th {\n",
       "        text-align: right;\n",
       "    }\n",
       "</style>\n",
       "<table border=\"1\" class=\"dataframe\">\n",
       "  <thead>\n",
       "    <tr style=\"text-align: right;\">\n",
       "      <th></th>\n",
       "      <th>length</th>\n",
       "      <th>bc</th>\n",
       "      <th>mergesort</th>\n",
       "      <th>stl_sort</th>\n",
       "      <th>speedup</th>\n",
       "    </tr>\n",
       "  </thead>\n",
       "  <tbody>\n",
       "    <tr>\n",
       "      <th>0</th>\n",
       "      <td>32768</td>\n",
       "      <td>1</td>\n",
       "      <td>80.754556</td>\n",
       "      <td>0.004055</td>\n",
       "      <td>0.005374</td>\n",
       "    </tr>\n",
       "    <tr>\n",
       "      <th>1</th>\n",
       "      <td>32768</td>\n",
       "      <td>2</td>\n",
       "      <td>80.312596</td>\n",
       "      <td>0.004262</td>\n",
       "      <td>0.013635</td>\n",
       "    </tr>\n",
       "    <tr>\n",
       "      <th>2</th>\n",
       "      <td>32768</td>\n",
       "      <td>3</td>\n",
       "      <td>80.353726</td>\n",
       "      <td>0.004289</td>\n",
       "      <td>0.012125</td>\n",
       "    </tr>\n",
       "    <tr>\n",
       "      <th>3</th>\n",
       "      <td>32768</td>\n",
       "      <td>4</td>\n",
       "      <td>80.153310</td>\n",
       "      <td>0.003742</td>\n",
       "      <td>0.024407</td>\n",
       "    </tr>\n",
       "    <tr>\n",
       "      <th>4</th>\n",
       "      <td>32768</td>\n",
       "      <td>5</td>\n",
       "      <td>80.157226</td>\n",
       "      <td>0.003911</td>\n",
       "      <td>0.024877</td>\n",
       "    </tr>\n",
       "    <tr>\n",
       "      <th>...</th>\n",
       "      <td>...</td>\n",
       "      <td>...</td>\n",
       "      <td>...</td>\n",
       "      <td>...</td>\n",
       "      <td>...</td>\n",
       "    </tr>\n",
       "    <tr>\n",
       "      <th>4091</th>\n",
       "      <td>32768</td>\n",
       "      <td>4092</td>\n",
       "      <td>80.001216</td>\n",
       "      <td>0.003858</td>\n",
       "      <td>3.172210</td>\n",
       "    </tr>\n",
       "    <tr>\n",
       "      <th>4092</th>\n",
       "      <td>32768</td>\n",
       "      <td>4093</td>\n",
       "      <td>80.001210</td>\n",
       "      <td>0.003785</td>\n",
       "      <td>3.128210</td>\n",
       "    </tr>\n",
       "    <tr>\n",
       "      <th>4093</th>\n",
       "      <td>32768</td>\n",
       "      <td>4094</td>\n",
       "      <td>80.001308</td>\n",
       "      <td>0.004074</td>\n",
       "      <td>3.113450</td>\n",
       "    </tr>\n",
       "    <tr>\n",
       "      <th>4094</th>\n",
       "      <td>32768</td>\n",
       "      <td>4095</td>\n",
       "      <td>80.001257</td>\n",
       "      <td>0.003697</td>\n",
       "      <td>2.941260</td>\n",
       "    </tr>\n",
       "    <tr>\n",
       "      <th>4095</th>\n",
       "      <td>32768</td>\n",
       "      <td>4096</td>\n",
       "      <td>80.001002</td>\n",
       "      <td>0.003971</td>\n",
       "      <td>3.964350</td>\n",
       "    </tr>\n",
       "  </tbody>\n",
       "</table>\n",
       "<p>4096 rows × 5 columns</p>\n",
       "</div>"
      ],
      "text/plain": [
       "      length    bc  mergesort  stl_sort   speedup\n",
       "0      32768     1  80.754556  0.004055  0.005374\n",
       "1      32768     2  80.312596  0.004262  0.013635\n",
       "2      32768     3  80.353726  0.004289  0.012125\n",
       "3      32768     4  80.153310  0.003742  0.024407\n",
       "4      32768     5  80.157226  0.003911  0.024877\n",
       "...      ...   ...        ...       ...       ...\n",
       "4091   32768  4092  80.001216  0.003858  3.172210\n",
       "4092   32768  4093  80.001210  0.003785  3.128210\n",
       "4093   32768  4094  80.001308  0.004074  3.113450\n",
       "4094   32768  4095  80.001257  0.003697  2.941260\n",
       "4095   32768  4096  80.001002  0.003971  3.964350\n",
       "\n",
       "[4096 rows x 5 columns]"
      ]
     },
     "execution_count": 5,
     "metadata": {},
     "output_type": "execute_result"
    }
   ],
   "source": [
    "df = pd.read_csv('info.csv')\n",
    "df"
   ]
  },
  {
   "cell_type": "code",
   "execution_count": 11,
   "id": "841d50df",
   "metadata": {},
   "outputs": [
    {
     "data": {
      "text/plain": [
       "<AxesSubplot:>"
      ]
     },
     "execution_count": 11,
     "metadata": {},
     "output_type": "execute_result"
    },
    {
     "data": {
      "image/png": "[encoded data removed]",
      "text/plain": [
       "<Figure size 432x288 with 1 Axes>"
      ]
     },
     "metadata": {
      "needs_background": "light"
     },
     "output_type": "display_data"
    }
   ],
   "source": [
    "df[['speedup']].plot()"
   ]
  },
  {
   "cell_type": "code",
   "execution_count": null,
   "id": "f8112f7a",
   "metadata": {},
   "outputs": [],
   "source": []
  }
 ],
 "metadata": {
  "kernelspec": {
   "display_name": "Python 3 (ipykernel)",
   "language": "python",
   "name": "python3"
  },
  "language_info": {
   "codemirror_mode": {
    "name": "ipython",
    "version": 3
   },
   "file_extension": ".py",
   "mimetype": "text/x-python",
   "name": "python",
   "nbconvert_exporter": "python",
   "pygments_lexer": "ipython3",
   "version": "3.9.12"
  }
 },
 "nbformat": 4,
 "nbformat_minor": 5
}
