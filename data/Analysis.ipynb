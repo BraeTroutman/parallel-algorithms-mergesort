{
 "cells": [
  {
   "cell_type": "code",
   "execution_count": 1,
   "id": "13282095",
   "metadata": {},
   "outputs": [],
   "source": [
    "import pandas as pd"
   ]
  },
  {
   "cell_type": "markdown",
   "id": "429d6bb2",
   "metadata": {},
   "source": [
    "# Problem 3"
   ]
  },
  {
   "cell_type": "code",
   "execution_count": 2,
   "id": "c9756315",
   "metadata": {},
   "outputs": [
    {
     "data": {
      "text/html": [
       "<div>\n",
       "<style scoped>\n",
       "    .dataframe tbody tr th:only-of-type {\n",
       "        vertical-align: middle;\n",
       "    }\n",
       "\n",
       "    .dataframe tbody tr th {\n",
       "        vertical-align: top;\n",
       "    }\n",
       "\n",
       "    .dataframe thead th {\n",
       "        text-align: right;\n",
       "    }\n",
       "</style>\n",
       "<table border=\"1\" class=\"dataframe\">\n",
       "  <thead>\n",
       "    <tr style=\"text-align: right;\">\n",
       "      <th></th>\n",
       "      <th>n</th>\n",
       "      <th>num_threads</th>\n",
       "      <th>mergesort_time</th>\n",
       "      <th>stl_sort_time</th>\n",
       "      <th>speedup</th>\n",
       "    </tr>\n",
       "    <tr>\n",
       "      <th>bc</th>\n",
       "      <th></th>\n",
       "      <th></th>\n",
       "      <th></th>\n",
       "      <th></th>\n",
       "      <th></th>\n",
       "    </tr>\n",
       "  </thead>\n",
       "  <tbody>\n",
       "    <tr>\n",
       "      <th>1</th>\n",
       "      <td>1000000</td>\n",
       "      <td>8</td>\n",
       "      <td>72.130400</td>\n",
       "      <td>0.168719</td>\n",
       "      <td>0.002339</td>\n",
       "    </tr>\n",
       "    <tr>\n",
       "      <th>3</th>\n",
       "      <td>1000000</td>\n",
       "      <td>8</td>\n",
       "      <td>35.536700</td>\n",
       "      <td>0.169242</td>\n",
       "      <td>0.004762</td>\n",
       "    </tr>\n",
       "    <tr>\n",
       "      <th>5</th>\n",
       "      <td>1000000</td>\n",
       "      <td>8</td>\n",
       "      <td>17.361400</td>\n",
       "      <td>0.168383</td>\n",
       "      <td>0.009699</td>\n",
       "    </tr>\n",
       "    <tr>\n",
       "      <th>7</th>\n",
       "      <td>1000000</td>\n",
       "      <td>8</td>\n",
       "      <td>15.207300</td>\n",
       "      <td>0.168460</td>\n",
       "      <td>0.011078</td>\n",
       "    </tr>\n",
       "    <tr>\n",
       "      <th>9</th>\n",
       "      <td>1000000</td>\n",
       "      <td>8</td>\n",
       "      <td>8.409090</td>\n",
       "      <td>0.168422</td>\n",
       "      <td>0.020029</td>\n",
       "    </tr>\n",
       "    <tr>\n",
       "      <th>...</th>\n",
       "      <td>...</td>\n",
       "      <td>...</td>\n",
       "      <td>...</td>\n",
       "      <td>...</td>\n",
       "      <td>...</td>\n",
       "    </tr>\n",
       "    <tr>\n",
       "      <th>499600</th>\n",
       "      <td>1000000</td>\n",
       "      <td>8</td>\n",
       "      <td>0.046153</td>\n",
       "      <td>0.166076</td>\n",
       "      <td>3.598390</td>\n",
       "    </tr>\n",
       "    <tr>\n",
       "      <th>499700</th>\n",
       "      <td>1000000</td>\n",
       "      <td>8</td>\n",
       "      <td>0.045749</td>\n",
       "      <td>0.167509</td>\n",
       "      <td>3.661490</td>\n",
       "    </tr>\n",
       "    <tr>\n",
       "      <th>499800</th>\n",
       "      <td>1000000</td>\n",
       "      <td>8</td>\n",
       "      <td>0.045691</td>\n",
       "      <td>0.167400</td>\n",
       "      <td>3.663750</td>\n",
       "    </tr>\n",
       "    <tr>\n",
       "      <th>499900</th>\n",
       "      <td>1000000</td>\n",
       "      <td>8</td>\n",
       "      <td>0.046161</td>\n",
       "      <td>0.167451</td>\n",
       "      <td>3.627580</td>\n",
       "    </tr>\n",
       "    <tr>\n",
       "      <th>500000</th>\n",
       "      <td>1000000</td>\n",
       "      <td>8</td>\n",
       "      <td>0.084952</td>\n",
       "      <td>0.167300</td>\n",
       "      <td>1.969340</td>\n",
       "    </tr>\n",
       "  </tbody>\n",
       "</table>\n",
       "<p>5050 rows × 5 columns</p>\n",
       "</div>"
      ],
      "text/plain": [
       "              n  num_threads  mergesort_time  stl_sort_time   speedup\n",
       "bc                                                                   \n",
       "1       1000000            8       72.130400       0.168719  0.002339\n",
       "3       1000000            8       35.536700       0.169242  0.004762\n",
       "5       1000000            8       17.361400       0.168383  0.009699\n",
       "7       1000000            8       15.207300       0.168460  0.011078\n",
       "9       1000000            8        8.409090       0.168422  0.020029\n",
       "...         ...          ...             ...            ...       ...\n",
       "499600  1000000            8        0.046153       0.166076  3.598390\n",
       "499700  1000000            8        0.045749       0.167509  3.661490\n",
       "499800  1000000            8        0.045691       0.167400  3.663750\n",
       "499900  1000000            8        0.046161       0.167451  3.627580\n",
       "500000  1000000            8        0.084952       0.167300  1.969340\n",
       "\n",
       "[5050 rows x 5 columns]"
      ]
     },
     "execution_count": 2,
     "metadata": {},
     "output_type": "execute_result"
    }
   ],
   "source": [
    "df = pd.read_csv('problem_three.csv').set_index('bc')\n",
    "df"
   ]
  },
  {
   "cell_type": "code",
   "execution_count": 3,
   "id": "841d50df",
   "metadata": {},
   "outputs": [
    {
     "data": {
      "text/plain": [
       "<AxesSubplot:xlabel='bc'>"
      ]
     },
     "execution_count": 3,
     "metadata": {},
     "output_type": "execute_result"
    },
    {
     "data": {
      "image/png": "[encoded data removed]",
      "text/plain": [
       "<Figure size 432x288 with 1 Axes>"
      ]
     },
     "metadata": {
      "needs_background": "light"
     },
     "output_type": "display_data"
    }
   ],
   "source": [
    "df[['speedup']].plot()"
   ]
  },
  {
   "cell_type": "markdown",
   "id": "3a3cc321",
   "metadata": {},
   "source": [
    "Generally, speedup grows at a rate similar to $\\log_2(bc)$ as bc approaches the total size of the list. This is because with small base cases, the amount of work that is actually being executed in parallel at the leaf nodes of the recursion tree is insignificant, so we don't make sufficient use of our processors to make up for the overhead of spawning new threads."
   ]
  },
  {
   "cell_type": "code",
   "execution_count": null,
   "id": "f9e3c328",
   "metadata": {},
   "outputs": [],
   "source": []
  }
 ],
 "metadata": {
  "kernelspec": {
   "display_name": "Python 3 (ipykernel)",
   "language": "python",
   "name": "python3"
  },
  "language_info": {
   "codemirror_mode": {
    "name": "ipython",
    "version": 3
   },
   "file_extension": ".py",
   "mimetype": "text/x-python",
   "name": "python",
   "nbconvert_exporter": "python",
   "pygments_lexer": "ipython3",
   "version": "3.9.12"
  }
 },
 "nbformat": 4,
 "nbformat_minor": 5
}
